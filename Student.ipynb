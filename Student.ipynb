{
 "cells": [
  {
   "cell_type": "markdown",
   "metadata": {},
   "source": [
    "# Finding the Diabetes Belt\n",
    "### Building a Binary Classifier using the USDA's Food Atlas"
   ]
  },
  {
   "cell_type": "markdown",
   "metadata": {},
   "source": [
    "# Table of Contents\n",
    "\n",
    "* Introduction\n",
    "* Obtain\n",
    "* Scrub\n",
    "* Explore\n",
    "    * Correlation\n",
    "    * Feature Ranking\n",
    "* Model\n",
    "* Interpret\n",
    "    * Conclusion"
   ]
  },
  {
   "cell_type": "markdown",
   "metadata": {},
   "source": [
    "# Introduction\n",
    "\n",
    "In this project, I will be examining diabetes rates in US counties, and will attempt to **build a classifier that will predict whether a particular county will have an adult diabetes rate above or below 11%.**\n",
    "\n",
    "In 2011, the CDC identified a cluster of counties in the Southeastern United States where the diabetes rate was substantially higher than the national average. In order to raise awareness, they classified any county with an adult diabetes rate of 11% or more as part of a **“Diabetes Belt.\"**\n",
    "\n",
    "The CDC based their designation off of data recorded back in 2008, and the epidemic of diabetes has only gotten worse over the years. We have access to public county level data on diabetes as recent as 2013. Based on other health measures, **can we predict which counties would be a part of the diabetes belt in 2013?**\n",
    "\n",
    "The USDA’s Food Environment Atlas contains county level data on a wide variety of factors related to food access, health, and socioeconomics. As I hypothesize that there will be relationships between diabetes and some of these other measures, I will attempt to use this data to build my classifier."
   ]
  },
  {
   "cell_type": "code",
   "execution_count": 1,
   "metadata": {},
   "outputs": [],
   "source": [
    "import pandas as pd\n",
    "import numpy as np\n",
    "import matplotlib.pyplot as plt\n",
    "\n",
    "from functools import reduce\n",
    "from collections import defaultdict\n",
    "\n",
    "%matplotlib inline"
   ]
  },
  {
   "cell_type": "markdown",
   "metadata": {},
   "source": [
    "# Obtain"
   ]
  },
  {
   "cell_type": "markdown",
   "metadata": {},
   "source": [
    "First, we'll load in the data. This may be located at the following address:\n",
    "\n",
    "https://www.ers.usda.gov/data-products/food-environment-atlas/data-access-and-documentation-downloads/\n",
    "\n",
    "The data is in an excel spreadsheet, with the various features separated by category across multiple sheets. Fortunately, all of these sheets share a \"FIPS\" code column, which makes it easy to load into dataframes and then combine."
   ]
  },
  {
   "cell_type": "code",
   "execution_count": 2,
   "metadata": {},
   "outputs": [],
   "source": [
    "def read(file):\n",
    "    excel = pd.ExcelFile(file)\n",
    "    sheets = excel.sheet_names[4:]\n",
    "\n",
    "    dataframes = [excel.parse(sheet_name=sheet) for sheet in sheets]\n",
    "\n",
    "    df = reduce(lambda left,right: pd.merge(left,right,on='FIPS'), dataframes)\n",
    "\n",
    "    return df"
   ]
  },
  {
   "cell_type": "code",
   "execution_count": 3,
   "metadata": {},
   "outputs": [
    {
     "data": {
      "text/plain": [
       "(3143, 296)"
      ]
     },
     "execution_count": 3,
     "metadata": {},
     "output_type": "execute_result"
    }
   ],
   "source": [
    "data = read('food_atlas.xls')\n",
    "data.shape"
   ]
  },
  {
   "cell_type": "code",
   "execution_count": 4,
   "metadata": {},
   "outputs": [
    {
     "data": {
      "text/html": [
       "<div>\n",
       "<style scoped>\n",
       "    .dataframe tbody tr th:only-of-type {\n",
       "        vertical-align: middle;\n",
       "    }\n",
       "\n",
       "    .dataframe tbody tr th {\n",
       "        vertical-align: top;\n",
       "    }\n",
       "\n",
       "    .dataframe thead th {\n",
       "        text-align: right;\n",
       "    }\n",
       "</style>\n",
       "<table border=\"1\" class=\"dataframe\">\n",
       "  <thead>\n",
       "    <tr style=\"text-align: right;\">\n",
       "      <th></th>\n",
       "      <th>FIPS</th>\n",
       "      <th>State_x</th>\n",
       "      <th>County_x</th>\n",
       "      <th>LACCESS_POP10</th>\n",
       "      <th>LACCESS_POP15</th>\n",
       "      <th>PCH_LACCESS_POP_10_15</th>\n",
       "      <th>PCT_LACCESS_POP10</th>\n",
       "      <th>PCT_LACCESS_POP15</th>\n",
       "      <th>LACCESS_LOWI10</th>\n",
       "      <th>LACCESS_LOWI15</th>\n",
       "      <th>...</th>\n",
       "      <th>PCT_NHPI10</th>\n",
       "      <th>PCT_65OLDER10</th>\n",
       "      <th>PCT_18YOUNGER10</th>\n",
       "      <th>MEDHHINC15</th>\n",
       "      <th>POVRATE15</th>\n",
       "      <th>PERPOV10</th>\n",
       "      <th>CHILDPOVRATE15</th>\n",
       "      <th>PERCHLDPOV10</th>\n",
       "      <th>METRO13</th>\n",
       "      <th>POPLOSS10</th>\n",
       "    </tr>\n",
       "  </thead>\n",
       "  <tbody>\n",
       "    <tr>\n",
       "      <th>0</th>\n",
       "      <td>1001</td>\n",
       "      <td>AL</td>\n",
       "      <td>Autauga</td>\n",
       "      <td>18428.439685</td>\n",
       "      <td>17496.693038</td>\n",
       "      <td>-5.056026</td>\n",
       "      <td>33.769657</td>\n",
       "      <td>32.062255</td>\n",
       "      <td>5344.427472</td>\n",
       "      <td>6543.676824</td>\n",
       "      <td>...</td>\n",
       "      <td>0.040314</td>\n",
       "      <td>11.995382</td>\n",
       "      <td>26.777959</td>\n",
       "      <td>56580.0</td>\n",
       "      <td>12.7</td>\n",
       "      <td>0</td>\n",
       "      <td>18.8</td>\n",
       "      <td>0</td>\n",
       "      <td>1</td>\n",
       "      <td>0.0</td>\n",
       "    </tr>\n",
       "    <tr>\n",
       "      <th>1</th>\n",
       "      <td>1003</td>\n",
       "      <td>AL</td>\n",
       "      <td>Baldwin</td>\n",
       "      <td>35210.814078</td>\n",
       "      <td>30561.264430</td>\n",
       "      <td>-13.204891</td>\n",
       "      <td>19.318473</td>\n",
       "      <td>16.767489</td>\n",
       "      <td>9952.144027</td>\n",
       "      <td>9886.831137</td>\n",
       "      <td>...</td>\n",
       "      <td>0.043343</td>\n",
       "      <td>16.771185</td>\n",
       "      <td>22.987408</td>\n",
       "      <td>52387.0</td>\n",
       "      <td>12.9</td>\n",
       "      <td>0</td>\n",
       "      <td>19.6</td>\n",
       "      <td>0</td>\n",
       "      <td>1</td>\n",
       "      <td>0.0</td>\n",
       "    </tr>\n",
       "    <tr>\n",
       "      <th>2</th>\n",
       "      <td>1005</td>\n",
       "      <td>AL</td>\n",
       "      <td>Barbour</td>\n",
       "      <td>5722.305602</td>\n",
       "      <td>6069.523628</td>\n",
       "      <td>6.067799</td>\n",
       "      <td>20.840972</td>\n",
       "      <td>22.105560</td>\n",
       "      <td>3135.676086</td>\n",
       "      <td>2948.790251</td>\n",
       "      <td>...</td>\n",
       "      <td>0.087409</td>\n",
       "      <td>14.236807</td>\n",
       "      <td>21.906982</td>\n",
       "      <td>31433.0</td>\n",
       "      <td>32.0</td>\n",
       "      <td>1</td>\n",
       "      <td>45.2</td>\n",
       "      <td>1</td>\n",
       "      <td>0</td>\n",
       "      <td>0.0</td>\n",
       "    </tr>\n",
       "    <tr>\n",
       "      <th>3</th>\n",
       "      <td>1007</td>\n",
       "      <td>AL</td>\n",
       "      <td>Bibb</td>\n",
       "      <td>1044.867327</td>\n",
       "      <td>969.378841</td>\n",
       "      <td>-7.224696</td>\n",
       "      <td>4.559753</td>\n",
       "      <td>4.230324</td>\n",
       "      <td>491.449066</td>\n",
       "      <td>596.162829</td>\n",
       "      <td>...</td>\n",
       "      <td>0.030548</td>\n",
       "      <td>12.681650</td>\n",
       "      <td>22.696923</td>\n",
       "      <td>40767.0</td>\n",
       "      <td>22.2</td>\n",
       "      <td>0</td>\n",
       "      <td>29.3</td>\n",
       "      <td>1</td>\n",
       "      <td>1</td>\n",
       "      <td>0.0</td>\n",
       "    </tr>\n",
       "    <tr>\n",
       "      <th>4</th>\n",
       "      <td>1009</td>\n",
       "      <td>AL</td>\n",
       "      <td>Blount</td>\n",
       "      <td>1548.175559</td>\n",
       "      <td>3724.428242</td>\n",
       "      <td>140.568857</td>\n",
       "      <td>2.700840</td>\n",
       "      <td>6.497380</td>\n",
       "      <td>609.027708</td>\n",
       "      <td>1650.959482</td>\n",
       "      <td>...</td>\n",
       "      <td>0.031402</td>\n",
       "      <td>14.722096</td>\n",
       "      <td>24.608353</td>\n",
       "      <td>50487.0</td>\n",
       "      <td>14.7</td>\n",
       "      <td>0</td>\n",
       "      <td>22.2</td>\n",
       "      <td>0</td>\n",
       "      <td>1</td>\n",
       "      <td>0.0</td>\n",
       "    </tr>\n",
       "  </tbody>\n",
       "</table>\n",
       "<p>5 rows × 296 columns</p>\n",
       "</div>"
      ],
      "text/plain": [
       "   FIPS State_x County_x  LACCESS_POP10  LACCESS_POP15  PCH_LACCESS_POP_10_15  \\\n",
       "0  1001      AL  Autauga   18428.439685   17496.693038              -5.056026   \n",
       "1  1003      AL  Baldwin   35210.814078   30561.264430             -13.204891   \n",
       "2  1005      AL  Barbour    5722.305602    6069.523628               6.067799   \n",
       "3  1007      AL     Bibb    1044.867327     969.378841              -7.224696   \n",
       "4  1009      AL   Blount    1548.175559    3724.428242             140.568857   \n",
       "\n",
       "   PCT_LACCESS_POP10  PCT_LACCESS_POP15  LACCESS_LOWI10  LACCESS_LOWI15  ...  \\\n",
       "0          33.769657          32.062255     5344.427472     6543.676824  ...   \n",
       "1          19.318473          16.767489     9952.144027     9886.831137  ...   \n",
       "2          20.840972          22.105560     3135.676086     2948.790251  ...   \n",
       "3           4.559753           4.230324      491.449066      596.162829  ...   \n",
       "4           2.700840           6.497380      609.027708     1650.959482  ...   \n",
       "\n",
       "   PCT_NHPI10  PCT_65OLDER10  PCT_18YOUNGER10  MEDHHINC15  POVRATE15  \\\n",
       "0    0.040314      11.995382        26.777959     56580.0       12.7   \n",
       "1    0.043343      16.771185        22.987408     52387.0       12.9   \n",
       "2    0.087409      14.236807        21.906982     31433.0       32.0   \n",
       "3    0.030548      12.681650        22.696923     40767.0       22.2   \n",
       "4    0.031402      14.722096        24.608353     50487.0       14.7   \n",
       "\n",
       "   PERPOV10  CHILDPOVRATE15  PERCHLDPOV10  METRO13  POPLOSS10  \n",
       "0         0            18.8             0        1        0.0  \n",
       "1         0            19.6             0        1        0.0  \n",
       "2         1            45.2             1        0        0.0  \n",
       "3         0            29.3             1        1        0.0  \n",
       "4         0            22.2             0        1        0.0  \n",
       "\n",
       "[5 rows x 296 columns]"
      ]
     },
     "execution_count": 4,
     "metadata": {},
     "output_type": "execute_result"
    }
   ],
   "source": [
    "data.head()"
   ]
  },
  {
   "cell_type": "markdown",
   "metadata": {},
   "source": [
    "# Scrub"
   ]
  },
  {
   "cell_type": "markdown",
   "metadata": {},
   "source": [
    "As we can see, there are an awful lot of features here! We need to narrow this down. To do this, we'll use the following process:\n",
    "\n",
    "1. The only text features are the **State and County** names. These can be dropped.\n",
    "2. For each feature in raw count format, there is a corresponding column that displays the feature normalized by population. This means we can **drop all of the raw counts**, as it is the normalized version we want.\n",
    "3. Some measurements were taken in multiple years. Since we are trying to predict diabetes risk in 2013, **we don't want to use any measurements taken after 2013**. We also only want to use the **most recent measurement taken during or prior to 2013.**\n",
    "4. Some features show the **difference between measurements from year to year**. These would be useful for other experiments, but **not for ours**.\n",
    "5. Finally, **if a feature has null values, we'll drop the column**. Because each row is a county, if we aren't this strict, we'll lose valuable data on diabetes rates."
   ]
  },
  {
   "cell_type": "code",
   "execution_count": 5,
   "metadata": {},
   "outputs": [],
   "source": [
    "def clean(df):\n",
    "    \n",
    "    to_remove = []\n",
    "    \n",
    "    # load variable names\n",
    "    variables = pd.read_excel('food_atlas.xls', sheet_name=1)\n",
    "    \n",
    "    # keep only numerical features\n",
    "    df = df.select_dtypes(include=['float64', 'int64'])\n",
    "    \n",
    "    columns = set(df.columns)\n",
    "    \n",
    "    # select all raw counts for removal\n",
    "    raw_counts = set(variables.loc[variables.Units.isin(['Count', 'Dollars', 'Acres', 'Sq ft']), 'Variable Code'])\n",
    "    columns = columns - raw_counts\n",
    "    \n",
    "    # select all measurements after 2013 for removal\n",
    "    future = [\"14\", \"15\", \"16\"]\n",
    "    in_future = []\n",
    "    col_series = pd.Series(list(columns))\n",
    "    for year in future:\n",
    "        in_future += list(col_series[col_series.str.endswith(year)])\n",
    "    in_future = set(in_future)\n",
    "\n",
    "    columns = columns - in_future\n",
    "    \n",
    "    # remove all time interval change measures\n",
    "    col_series = pd.Series(list(columns))\n",
    "    time_change = col_series[col_series.str.contains(\"_[01][0123456678]_[01][0123456678]\")]\n",
    "    time_change = set(list(time_change))\n",
    "    columns = columns - time_change\n",
    "    \n",
    "    # select all older remaining duplicate measurements for removal\n",
    "    old_measures = []\n",
    "    digits = '0123456789'\n",
    "    mydict = defaultdict(list) \n",
    "    col_list = list(columns)\n",
    "    for column in sorted(col_list):\n",
    "        c = column\n",
    "        for digit in digits:\n",
    "            c = c.replace(digit, \"\")\n",
    "        key = c.replace(\"_\", \"\")\n",
    "        mydict[key].append(column)\n",
    "    \n",
    "    for k, v in mydict.items():\n",
    "        if len(v) > 1:\n",
    "            old_measures.append(v[0])\n",
    "    \n",
    "    old_measures = set(old_measures)\n",
    "    columns = columns - old_measures\n",
    "    \n",
    "    df = df[list(columns)]\n",
    "    \n",
    "    # drop rows with missing values\n",
    "    df = df.dropna(axis=0, subset=['PCT_DIABETES_ADULTS13'])\n",
    "    df = df.dropna(axis=1)\n",
    "    \n",
    "    return df"
   ]
  },
  {
   "cell_type": "code",
   "execution_count": 6,
   "metadata": {},
   "outputs": [],
   "source": [
    "df = clean(data)"
   ]
  },
  {
   "cell_type": "code",
   "execution_count": 7,
   "metadata": {},
   "outputs": [
    {
     "data": {
      "text/plain": [
       "(3142, 37)"
      ]
     },
     "execution_count": 7,
     "metadata": {},
     "output_type": "execute_result"
    }
   ],
   "source": [
    "fips = df.pop('FIPS')\n",
    "df.shape"
   ]
  },
  {
   "cell_type": "code",
   "execution_count": 8,
   "metadata": {},
   "outputs": [
    {
     "data": {
      "text/html": [
       "<div>\n",
       "<style scoped>\n",
       "    .dataframe tbody tr th:only-of-type {\n",
       "        vertical-align: middle;\n",
       "    }\n",
       "\n",
       "    .dataframe tbody tr th {\n",
       "        vertical-align: top;\n",
       "    }\n",
       "\n",
       "    .dataframe thead th {\n",
       "        text-align: right;\n",
       "    }\n",
       "</style>\n",
       "<table border=\"1\" class=\"dataframe\">\n",
       "  <thead>\n",
       "    <tr style=\"text-align: right;\">\n",
       "      <th></th>\n",
       "      <th>METRO13</th>\n",
       "      <th>CONVSPTH09</th>\n",
       "      <th>GROCPTH09</th>\n",
       "      <th>PERCHLDPOV10</th>\n",
       "      <th>PERPOV10</th>\n",
       "      <th>PCT_SNAP12</th>\n",
       "      <th>PCT_HISP10</th>\n",
       "      <th>PCT_LACCESS_SENIORS10</th>\n",
       "      <th>PCT_SBP09</th>\n",
       "      <th>PCT_LACCESS_POP10</th>\n",
       "      <th>...</th>\n",
       "      <th>PCT_WIC09</th>\n",
       "      <th>PCT_65OLDER10</th>\n",
       "      <th>PCT_CACFP09</th>\n",
       "      <th>SNAP_CAP09</th>\n",
       "      <th>PCT_SFSP09</th>\n",
       "      <th>WICSPTH12</th>\n",
       "      <th>PCT_NSLP09</th>\n",
       "      <th>SNAP_OAPP09</th>\n",
       "      <th>SNAP_PART_RATE13</th>\n",
       "      <th>PCT_NHPI10</th>\n",
       "    </tr>\n",
       "  </thead>\n",
       "  <tbody>\n",
       "    <tr>\n",
       "      <th>0</th>\n",
       "      <td>1</td>\n",
       "      <td>0.535698</td>\n",
       "      <td>0.110834</td>\n",
       "      <td>0</td>\n",
       "      <td>0</td>\n",
       "      <td>18.824675</td>\n",
       "      <td>2.400542</td>\n",
       "      <td>4.376378</td>\n",
       "      <td>4.509008</td>\n",
       "      <td>33.769657</td>\n",
       "      <td>...</td>\n",
       "      <td>2.990417</td>\n",
       "      <td>11.995382</td>\n",
       "      <td>0.91609</td>\n",
       "      <td>0</td>\n",
       "      <td>0.56489</td>\n",
       "      <td>0.090067</td>\n",
       "      <td>12.315055</td>\n",
       "      <td>0.0</td>\n",
       "      <td>89.184</td>\n",
       "      <td>0.040314</td>\n",
       "    </tr>\n",
       "    <tr>\n",
       "      <th>1</th>\n",
       "      <td>1</td>\n",
       "      <td>0.663300</td>\n",
       "      <td>0.133775</td>\n",
       "      <td>0</td>\n",
       "      <td>0</td>\n",
       "      <td>18.824675</td>\n",
       "      <td>4.384824</td>\n",
       "      <td>3.513570</td>\n",
       "      <td>4.509008</td>\n",
       "      <td>19.318473</td>\n",
       "      <td>...</td>\n",
       "      <td>2.990417</td>\n",
       "      <td>16.771185</td>\n",
       "      <td>0.91609</td>\n",
       "      <td>0</td>\n",
       "      <td>0.56489</td>\n",
       "      <td>0.141517</td>\n",
       "      <td>12.315055</td>\n",
       "      <td>0.0</td>\n",
       "      <td>89.184</td>\n",
       "      <td>0.043343</td>\n",
       "    </tr>\n",
       "    <tr>\n",
       "      <th>2</th>\n",
       "      <td>0</td>\n",
       "      <td>0.506201</td>\n",
       "      <td>0.180786</td>\n",
       "      <td>1</td>\n",
       "      <td>1</td>\n",
       "      <td>18.824675</td>\n",
       "      <td>5.051535</td>\n",
       "      <td>2.805166</td>\n",
       "      <td>4.509008</td>\n",
       "      <td>20.840972</td>\n",
       "      <td>...</td>\n",
       "      <td>2.990417</td>\n",
       "      <td>14.236807</td>\n",
       "      <td>0.91609</td>\n",
       "      <td>0</td>\n",
       "      <td>0.56489</td>\n",
       "      <td>0.257344</td>\n",
       "      <td>12.315055</td>\n",
       "      <td>0.0</td>\n",
       "      <td>89.184</td>\n",
       "      <td>0.087409</td>\n",
       "    </tr>\n",
       "    <tr>\n",
       "      <th>3</th>\n",
       "      <td>1</td>\n",
       "      <td>0.828211</td>\n",
       "      <td>0.261540</td>\n",
       "      <td>1</td>\n",
       "      <td>0</td>\n",
       "      <td>18.824675</td>\n",
       "      <td>1.771765</td>\n",
       "      <td>0.657008</td>\n",
       "      <td>4.509008</td>\n",
       "      <td>4.559753</td>\n",
       "      <td>...</td>\n",
       "      <td>2.990417</td>\n",
       "      <td>12.681650</td>\n",
       "      <td>0.91609</td>\n",
       "      <td>0</td>\n",
       "      <td>0.56489</td>\n",
       "      <td>0.221268</td>\n",
       "      <td>12.315055</td>\n",
       "      <td>0.0</td>\n",
       "      <td>89.184</td>\n",
       "      <td>0.030548</td>\n",
       "    </tr>\n",
       "    <tr>\n",
       "      <th>4</th>\n",
       "      <td>1</td>\n",
       "      <td>0.540625</td>\n",
       "      <td>0.104637</td>\n",
       "      <td>0</td>\n",
       "      <td>0</td>\n",
       "      <td>18.824675</td>\n",
       "      <td>8.070200</td>\n",
       "      <td>0.340269</td>\n",
       "      <td>4.509008</td>\n",
       "      <td>2.700840</td>\n",
       "      <td>...</td>\n",
       "      <td>2.990417</td>\n",
       "      <td>14.722096</td>\n",
       "      <td>0.91609</td>\n",
       "      <td>0</td>\n",
       "      <td>0.56489</td>\n",
       "      <td>0.103760</td>\n",
       "      <td>12.315055</td>\n",
       "      <td>0.0</td>\n",
       "      <td>89.184</td>\n",
       "      <td>0.031402</td>\n",
       "    </tr>\n",
       "  </tbody>\n",
       "</table>\n",
       "<p>5 rows × 37 columns</p>\n",
       "</div>"
      ],
      "text/plain": [
       "   METRO13  CONVSPTH09  GROCPTH09  PERCHLDPOV10  PERPOV10  PCT_SNAP12  \\\n",
       "0        1    0.535698   0.110834             0         0   18.824675   \n",
       "1        1    0.663300   0.133775             0         0   18.824675   \n",
       "2        0    0.506201   0.180786             1         1   18.824675   \n",
       "3        1    0.828211   0.261540             1         0   18.824675   \n",
       "4        1    0.540625   0.104637             0         0   18.824675   \n",
       "\n",
       "   PCT_HISP10  PCT_LACCESS_SENIORS10  PCT_SBP09  PCT_LACCESS_POP10  ...  \\\n",
       "0    2.400542               4.376378   4.509008          33.769657  ...   \n",
       "1    4.384824               3.513570   4.509008          19.318473  ...   \n",
       "2    5.051535               2.805166   4.509008          20.840972  ...   \n",
       "3    1.771765               0.657008   4.509008           4.559753  ...   \n",
       "4    8.070200               0.340269   4.509008           2.700840  ...   \n",
       "\n",
       "   PCT_WIC09  PCT_65OLDER10  PCT_CACFP09  SNAP_CAP09  PCT_SFSP09  WICSPTH12  \\\n",
       "0   2.990417      11.995382      0.91609           0     0.56489   0.090067   \n",
       "1   2.990417      16.771185      0.91609           0     0.56489   0.141517   \n",
       "2   2.990417      14.236807      0.91609           0     0.56489   0.257344   \n",
       "3   2.990417      12.681650      0.91609           0     0.56489   0.221268   \n",
       "4   2.990417      14.722096      0.91609           0     0.56489   0.103760   \n",
       "\n",
       "   PCT_NSLP09  SNAP_OAPP09  SNAP_PART_RATE13  PCT_NHPI10  \n",
       "0   12.315055          0.0            89.184    0.040314  \n",
       "1   12.315055          0.0            89.184    0.043343  \n",
       "2   12.315055          0.0            89.184    0.087409  \n",
       "3   12.315055          0.0            89.184    0.030548  \n",
       "4   12.315055          0.0            89.184    0.031402  \n",
       "\n",
       "[5 rows x 37 columns]"
      ]
     },
     "execution_count": 8,
     "metadata": {},
     "output_type": "execute_result"
    }
   ],
   "source": [
    "df.head()"
   ]
  },
  {
   "cell_type": "markdown",
   "metadata": {},
   "source": [
    "# Explore"
   ]
  },
  {
   "cell_type": "markdown",
   "metadata": {},
   "source": [
    "We've reduced the dataset substantially, and still have plenty to work with! Let's write a function that will tell us what these are."
   ]
  },
  {
   "cell_type": "code",
   "execution_count": 9,
   "metadata": {},
   "outputs": [],
   "source": [
    "def decode(features):\n",
    "    variables = pd.read_excel('food_atlas.xls', sheet_name=1)\n",
    "    columns = ['Variable Code', 'Variable Name', 'Category Name', 'Subcategory Name', 'Units']\n",
    "    if type(features) == list:\n",
    "        return variables.loc[variables['Variable Code'].isin(features), columns]\n",
    "    else:\n",
    "        return variables[variables['Variable Code'] == features, columns]"
   ]
  },
  {
   "cell_type": "code",
   "execution_count": 10,
   "metadata": {},
   "outputs": [
    {
     "data": {
      "text/html": [
       "<div>\n",
       "<style scoped>\n",
       "    .dataframe tbody tr th:only-of-type {\n",
       "        vertical-align: middle;\n",
       "    }\n",
       "\n",
       "    .dataframe tbody tr th {\n",
       "        vertical-align: top;\n",
       "    }\n",
       "\n",
       "    .dataframe thead th {\n",
       "        text-align: right;\n",
       "    }\n",
       "</style>\n",
       "<table border=\"1\" class=\"dataframe\">\n",
       "  <thead>\n",
       "    <tr style=\"text-align: right;\">\n",
       "      <th></th>\n",
       "      <th>Variable Code</th>\n",
       "      <th>Variable Name</th>\n",
       "      <th>Category Name</th>\n",
       "      <th>Subcategory Name</th>\n",
       "      <th>Units</th>\n",
       "    </tr>\n",
       "  </thead>\n",
       "  <tbody>\n",
       "    <tr>\n",
       "      <th>3</th>\n",
       "      <td>PCT_LACCESS_POP10</td>\n",
       "      <td>Population, low access to store (%), 2010</td>\n",
       "      <td>Access and Proximity to Grocery Store</td>\n",
       "      <td>Overall</td>\n",
       "      <td>Percent</td>\n",
       "    </tr>\n",
       "    <tr>\n",
       "      <th>8</th>\n",
       "      <td>PCT_LACCESS_LOWI10</td>\n",
       "      <td>Low income &amp; low access to store (%), 2010</td>\n",
       "      <td>Access and Proximity to Grocery Store</td>\n",
       "      <td>Household Resources</td>\n",
       "      <td>Percent</td>\n",
       "    </tr>\n",
       "    <tr>\n",
       "      <th>13</th>\n",
       "      <td>PCT_LACCESS_HHNV10</td>\n",
       "      <td>Households, no car &amp; low access to store (%), ...</td>\n",
       "      <td>Access and Proximity to Grocery Store</td>\n",
       "      <td>Household Resources</td>\n",
       "      <td>Percent</td>\n",
       "    </tr>\n",
       "    <tr>\n",
       "      <th>20</th>\n",
       "      <td>PCT_LACCESS_CHILD10</td>\n",
       "      <td>Children, low access to store (%), 2010</td>\n",
       "      <td>Access and Proximity to Grocery Store</td>\n",
       "      <td>Demographics</td>\n",
       "      <td>Percent</td>\n",
       "    </tr>\n",
       "    <tr>\n",
       "      <th>25</th>\n",
       "      <td>PCT_LACCESS_SENIORS10</td>\n",
       "      <td>Seniors, low access to store (%), 2010</td>\n",
       "      <td>Access and Proximity to Grocery Store</td>\n",
       "      <td>Demographics</td>\n",
       "      <td>Percent</td>\n",
       "    </tr>\n",
       "    <tr>\n",
       "      <th>44</th>\n",
       "      <td>GROCPTH09</td>\n",
       "      <td>Grocery stores/1,000 pop, 2009</td>\n",
       "      <td>Store Availability</td>\n",
       "      <td>Grocery</td>\n",
       "      <td># per 1,000 pop</td>\n",
       "    </tr>\n",
       "    <tr>\n",
       "      <th>50</th>\n",
       "      <td>SUPERCPTH09</td>\n",
       "      <td>Supercenters &amp; club stores/1,000 pop, 2009</td>\n",
       "      <td>Store Availability</td>\n",
       "      <td>Supercenters</td>\n",
       "      <td># per 1,000 pop</td>\n",
       "    </tr>\n",
       "    <tr>\n",
       "      <th>56</th>\n",
       "      <td>CONVSPTH09</td>\n",
       "      <td>Convenience stores/1,000 pop, 2009</td>\n",
       "      <td>Store Availability</td>\n",
       "      <td>Convenience</td>\n",
       "      <td># per 1,000 pop</td>\n",
       "    </tr>\n",
       "    <tr>\n",
       "      <th>62</th>\n",
       "      <td>SPECSPTH09</td>\n",
       "      <td>Specialized food stores/1,000 pop, 2009</td>\n",
       "      <td>Store Availability</td>\n",
       "      <td>Specialized</td>\n",
       "      <td># per 1,000 pop</td>\n",
       "    </tr>\n",
       "    <tr>\n",
       "      <th>68</th>\n",
       "      <td>SNAPSPTH12</td>\n",
       "      <td>SNAP-authorized stores/1,000 pop, 2012</td>\n",
       "      <td>Store Availability</td>\n",
       "      <td>SNAP-authorized</td>\n",
       "      <td># per 1,000 pop</td>\n",
       "    </tr>\n",
       "    <tr>\n",
       "      <th>75</th>\n",
       "      <td>WICSPTH12</td>\n",
       "      <td>WIC-authorized stores/1,000 pop, 2012</td>\n",
       "      <td>Store Availability</td>\n",
       "      <td>WIC-authorized</td>\n",
       "      <td># per 1,000 pop</td>\n",
       "    </tr>\n",
       "    <tr>\n",
       "      <th>80</th>\n",
       "      <td>FFRPTH09</td>\n",
       "      <td>Fast-food restaurants/1,000 pop, 2009</td>\n",
       "      <td>Restaurant Availability and Expenditures</td>\n",
       "      <td>Fast-food</td>\n",
       "      <td># per 1,000 pop</td>\n",
       "    </tr>\n",
       "    <tr>\n",
       "      <th>96</th>\n",
       "      <td>PCT_SNAP12</td>\n",
       "      <td>SNAP participants (% pop), 2012*</td>\n",
       "      <td>Food Assistance</td>\n",
       "      <td>SNAP</td>\n",
       "      <td>Percent</td>\n",
       "    </tr>\n",
       "    <tr>\n",
       "      <th>103</th>\n",
       "      <td>SNAP_PART_RATE13</td>\n",
       "      <td>SNAP participants (% eligible pop), 2013*</td>\n",
       "      <td>Food Assistance</td>\n",
       "      <td>SNAP</td>\n",
       "      <td>Percent</td>\n",
       "    </tr>\n",
       "    <tr>\n",
       "      <th>104</th>\n",
       "      <td>SNAP_OAPP09</td>\n",
       "      <td>SNAP online application, 2009*</td>\n",
       "      <td>Food Assistance</td>\n",
       "      <td>SNAP</td>\n",
       "      <td>Classification</td>\n",
       "    </tr>\n",
       "    <tr>\n",
       "      <th>106</th>\n",
       "      <td>SNAP_CAP09</td>\n",
       "      <td>SNAP Combined Application Project , 2009*</td>\n",
       "      <td>Food Assistance</td>\n",
       "      <td>SNAP</td>\n",
       "      <td>Classification</td>\n",
       "    </tr>\n",
       "    <tr>\n",
       "      <th>108</th>\n",
       "      <td>SNAP_BBCE09</td>\n",
       "      <td>SNAP Broad-based Categorical Eligibility, 2009*</td>\n",
       "      <td>Food Assistance</td>\n",
       "      <td>SNAP</td>\n",
       "      <td>Classification</td>\n",
       "    </tr>\n",
       "    <tr>\n",
       "      <th>110</th>\n",
       "      <td>SNAP_REPORTSIMPLE09</td>\n",
       "      <td>SNAP simplified reporting, 2009*</td>\n",
       "      <td>Food Assistance</td>\n",
       "      <td>SNAP</td>\n",
       "      <td>Classification</td>\n",
       "    </tr>\n",
       "    <tr>\n",
       "      <th>112</th>\n",
       "      <td>PCT_NSLP09</td>\n",
       "      <td>National School Lunch Program participants (% ...</td>\n",
       "      <td>Food Assistance</td>\n",
       "      <td>National School Lunch Program</td>\n",
       "      <td>Percent</td>\n",
       "    </tr>\n",
       "    <tr>\n",
       "      <th>119</th>\n",
       "      <td>PCT_SBP09</td>\n",
       "      <td>School Breakfast Program participants (% pop),...</td>\n",
       "      <td>Food Assistance</td>\n",
       "      <td>School Breakfast Program</td>\n",
       "      <td>Percent</td>\n",
       "    </tr>\n",
       "    <tr>\n",
       "      <th>122</th>\n",
       "      <td>PCT_SFSP09</td>\n",
       "      <td>Summer Food Service Program participants (% po...</td>\n",
       "      <td>Food Assistance</td>\n",
       "      <td>Summer Food Service Program</td>\n",
       "      <td>Percent</td>\n",
       "    </tr>\n",
       "    <tr>\n",
       "      <th>131</th>\n",
       "      <td>PCT_WIC09</td>\n",
       "      <td>WIC participants (% pop), 2009*</td>\n",
       "      <td>Food Assistance</td>\n",
       "      <td>WIC</td>\n",
       "      <td>Percent</td>\n",
       "    </tr>\n",
       "    <tr>\n",
       "      <th>134</th>\n",
       "      <td>PCT_CACFP09</td>\n",
       "      <td>Child &amp; Adult Care (% pop), 2009*</td>\n",
       "      <td>Food Assistance</td>\n",
       "      <td>Child &amp; Adult Care</td>\n",
       "      <td>Percent</td>\n",
       "    </tr>\n",
       "    <tr>\n",
       "      <th>252</th>\n",
       "      <td>PCT_DIABETES_ADULTS13</td>\n",
       "      <td>Adult diabetes rate, 2013</td>\n",
       "      <td>Health and Physical Activity</td>\n",
       "      <td>Health</td>\n",
       "      <td>Percent</td>\n",
       "    </tr>\n",
       "    <tr>\n",
       "      <th>254</th>\n",
       "      <td>PCT_OBESE_ADULTS13</td>\n",
       "      <td>Adult obesity rate, 2013</td>\n",
       "      <td>Health and Physical Activity</td>\n",
       "      <td>Health</td>\n",
       "      <td>Percent</td>\n",
       "    </tr>\n",
       "    <tr>\n",
       "      <th>259</th>\n",
       "      <td>RECFACPTH09</td>\n",
       "      <td>Recreation &amp; fitness facilities/1,000 pop, 2009</td>\n",
       "      <td>Health and Physical Activity</td>\n",
       "      <td>Physical Activity</td>\n",
       "      <td># per 1,000 pop</td>\n",
       "    </tr>\n",
       "    <tr>\n",
       "      <th>262</th>\n",
       "      <td>PCT_NHWHITE10</td>\n",
       "      <td>% White, 2010</td>\n",
       "      <td>Socioeconomic Characteristics</td>\n",
       "      <td>Race &amp; Age</td>\n",
       "      <td>Percent</td>\n",
       "    </tr>\n",
       "    <tr>\n",
       "      <th>263</th>\n",
       "      <td>PCT_NHBLACK10</td>\n",
       "      <td>% Black, 2010</td>\n",
       "      <td>Socioeconomic Characteristics</td>\n",
       "      <td>Race &amp; Age</td>\n",
       "      <td>Percent</td>\n",
       "    </tr>\n",
       "    <tr>\n",
       "      <th>264</th>\n",
       "      <td>PCT_HISP10</td>\n",
       "      <td>% Hispanic, 2010</td>\n",
       "      <td>Socioeconomic Characteristics</td>\n",
       "      <td>Race &amp; Age</td>\n",
       "      <td>Percent</td>\n",
       "    </tr>\n",
       "    <tr>\n",
       "      <th>265</th>\n",
       "      <td>PCT_NHASIAN10</td>\n",
       "      <td>% Asian, 2010</td>\n",
       "      <td>Socioeconomic Characteristics</td>\n",
       "      <td>Race &amp; Age</td>\n",
       "      <td>Percent</td>\n",
       "    </tr>\n",
       "    <tr>\n",
       "      <th>266</th>\n",
       "      <td>PCT_NHNA10</td>\n",
       "      <td>% American Indian or Alaska Native, 2010</td>\n",
       "      <td>Socioeconomic Characteristics</td>\n",
       "      <td>Race &amp; Age</td>\n",
       "      <td>Percent</td>\n",
       "    </tr>\n",
       "    <tr>\n",
       "      <th>267</th>\n",
       "      <td>PCT_NHPI10</td>\n",
       "      <td>% Hawaiian or Pacific Islander, 2010</td>\n",
       "      <td>Socioeconomic Characteristics</td>\n",
       "      <td>Race &amp; Age</td>\n",
       "      <td>Percent</td>\n",
       "    </tr>\n",
       "    <tr>\n",
       "      <th>268</th>\n",
       "      <td>PCT_65OLDER10</td>\n",
       "      <td>% Population 65 years or older, 2010</td>\n",
       "      <td>Socioeconomic Characteristics</td>\n",
       "      <td>Race &amp; Age</td>\n",
       "      <td>Percent</td>\n",
       "    </tr>\n",
       "    <tr>\n",
       "      <th>269</th>\n",
       "      <td>PCT_18YOUNGER10</td>\n",
       "      <td>% Population under age 18, 2010</td>\n",
       "      <td>Socioeconomic Characteristics</td>\n",
       "      <td>Race &amp; Age</td>\n",
       "      <td>Percent</td>\n",
       "    </tr>\n",
       "    <tr>\n",
       "      <th>272</th>\n",
       "      <td>PERPOV10</td>\n",
       "      <td>Persistent-poverty counties, 2010</td>\n",
       "      <td>Socioeconomic Characteristics</td>\n",
       "      <td>Income Level</td>\n",
       "      <td>Legend</td>\n",
       "    </tr>\n",
       "    <tr>\n",
       "      <th>274</th>\n",
       "      <td>PERCHLDPOV10</td>\n",
       "      <td>Persistent-child-poverty counties, 2010</td>\n",
       "      <td>Socioeconomic Characteristics</td>\n",
       "      <td>Income Level</td>\n",
       "      <td>Legend</td>\n",
       "    </tr>\n",
       "    <tr>\n",
       "      <th>275</th>\n",
       "      <td>METRO13</td>\n",
       "      <td>Metro/nonmetro counties, 2010</td>\n",
       "      <td>Socioeconomic Characteristics</td>\n",
       "      <td>Other</td>\n",
       "      <td>Legend</td>\n",
       "    </tr>\n",
       "  </tbody>\n",
       "</table>\n",
       "</div>"
      ],
      "text/plain": [
       "             Variable Code                                      Variable Name  \\\n",
       "3        PCT_LACCESS_POP10          Population, low access to store (%), 2010   \n",
       "8       PCT_LACCESS_LOWI10         Low income & low access to store (%), 2010   \n",
       "13      PCT_LACCESS_HHNV10  Households, no car & low access to store (%), ...   \n",
       "20     PCT_LACCESS_CHILD10            Children, low access to store (%), 2010   \n",
       "25   PCT_LACCESS_SENIORS10             Seniors, low access to store (%), 2010   \n",
       "44               GROCPTH09                     Grocery stores/1,000 pop, 2009   \n",
       "50             SUPERCPTH09         Supercenters & club stores/1,000 pop, 2009   \n",
       "56              CONVSPTH09                 Convenience stores/1,000 pop, 2009   \n",
       "62              SPECSPTH09            Specialized food stores/1,000 pop, 2009   \n",
       "68              SNAPSPTH12             SNAP-authorized stores/1,000 pop, 2012   \n",
       "75               WICSPTH12              WIC-authorized stores/1,000 pop, 2012   \n",
       "80                FFRPTH09              Fast-food restaurants/1,000 pop, 2009   \n",
       "96              PCT_SNAP12                   SNAP participants (% pop), 2012*   \n",
       "103       SNAP_PART_RATE13          SNAP participants (% eligible pop), 2013*   \n",
       "104            SNAP_OAPP09                     SNAP online application, 2009*   \n",
       "106             SNAP_CAP09          SNAP Combined Application Project , 2009*   \n",
       "108            SNAP_BBCE09    SNAP Broad-based Categorical Eligibility, 2009*   \n",
       "110    SNAP_REPORTSIMPLE09                   SNAP simplified reporting, 2009*   \n",
       "112             PCT_NSLP09  National School Lunch Program participants (% ...   \n",
       "119              PCT_SBP09  School Breakfast Program participants (% pop),...   \n",
       "122             PCT_SFSP09  Summer Food Service Program participants (% po...   \n",
       "131              PCT_WIC09                    WIC participants (% pop), 2009*   \n",
       "134            PCT_CACFP09                  Child & Adult Care (% pop), 2009*   \n",
       "252  PCT_DIABETES_ADULTS13                          Adult diabetes rate, 2013   \n",
       "254     PCT_OBESE_ADULTS13                           Adult obesity rate, 2013   \n",
       "259            RECFACPTH09    Recreation & fitness facilities/1,000 pop, 2009   \n",
       "262          PCT_NHWHITE10                                      % White, 2010   \n",
       "263          PCT_NHBLACK10                                      % Black, 2010   \n",
       "264             PCT_HISP10                                   % Hispanic, 2010   \n",
       "265          PCT_NHASIAN10                                      % Asian, 2010   \n",
       "266             PCT_NHNA10           % American Indian or Alaska Native, 2010   \n",
       "267             PCT_NHPI10               % Hawaiian or Pacific Islander, 2010   \n",
       "268          PCT_65OLDER10               % Population 65 years or older, 2010   \n",
       "269        PCT_18YOUNGER10                    % Population under age 18, 2010   \n",
       "272               PERPOV10                  Persistent-poverty counties, 2010   \n",
       "274           PERCHLDPOV10            Persistent-child-poverty counties, 2010   \n",
       "275                METRO13                      Metro/nonmetro counties, 2010   \n",
       "\n",
       "                                Category Name               Subcategory Name  \\\n",
       "3       Access and Proximity to Grocery Store                        Overall   \n",
       "8       Access and Proximity to Grocery Store            Household Resources   \n",
       "13      Access and Proximity to Grocery Store            Household Resources   \n",
       "20      Access and Proximity to Grocery Store                   Demographics   \n",
       "25      Access and Proximity to Grocery Store                   Demographics   \n",
       "44                         Store Availability                        Grocery   \n",
       "50                         Store Availability                   Supercenters   \n",
       "56                         Store Availability                    Convenience   \n",
       "62                         Store Availability                    Specialized   \n",
       "68                         Store Availability                SNAP-authorized   \n",
       "75                         Store Availability                 WIC-authorized   \n",
       "80   Restaurant Availability and Expenditures                      Fast-food   \n",
       "96                            Food Assistance                           SNAP   \n",
       "103                           Food Assistance                           SNAP   \n",
       "104                           Food Assistance                           SNAP   \n",
       "106                           Food Assistance                           SNAP   \n",
       "108                           Food Assistance                           SNAP   \n",
       "110                           Food Assistance                           SNAP   \n",
       "112                           Food Assistance  National School Lunch Program   \n",
       "119                           Food Assistance       School Breakfast Program   \n",
       "122                           Food Assistance    Summer Food Service Program   \n",
       "131                           Food Assistance                            WIC   \n",
       "134                           Food Assistance             Child & Adult Care   \n",
       "252              Health and Physical Activity                         Health   \n",
       "254              Health and Physical Activity                         Health   \n",
       "259              Health and Physical Activity              Physical Activity   \n",
       "262             Socioeconomic Characteristics                     Race & Age   \n",
       "263             Socioeconomic Characteristics                     Race & Age   \n",
       "264             Socioeconomic Characteristics                     Race & Age   \n",
       "265             Socioeconomic Characteristics                     Race & Age   \n",
       "266             Socioeconomic Characteristics                     Race & Age   \n",
       "267             Socioeconomic Characteristics                     Race & Age   \n",
       "268             Socioeconomic Characteristics                     Race & Age   \n",
       "269             Socioeconomic Characteristics                     Race & Age   \n",
       "272             Socioeconomic Characteristics                   Income Level   \n",
       "274             Socioeconomic Characteristics                   Income Level   \n",
       "275             Socioeconomic Characteristics                          Other   \n",
       "\n",
       "               Units  \n",
       "3            Percent  \n",
       "8            Percent  \n",
       "13           Percent  \n",
       "20           Percent  \n",
       "25           Percent  \n",
       "44   # per 1,000 pop  \n",
       "50   # per 1,000 pop  \n",
       "56   # per 1,000 pop  \n",
       "62   # per 1,000 pop  \n",
       "68   # per 1,000 pop  \n",
       "75   # per 1,000 pop  \n",
       "80   # per 1,000 pop  \n",
       "96           Percent  \n",
       "103          Percent  \n",
       "104   Classification  \n",
       "106   Classification  \n",
       "108   Classification  \n",
       "110   Classification  \n",
       "112          Percent  \n",
       "119          Percent  \n",
       "122          Percent  \n",
       "131          Percent  \n",
       "134          Percent  \n",
       "252          Percent  \n",
       "254          Percent  \n",
       "259  # per 1,000 pop  \n",
       "262          Percent  \n",
       "263          Percent  \n",
       "264          Percent  \n",
       "265          Percent  \n",
       "266          Percent  \n",
       "267          Percent  \n",
       "268          Percent  \n",
       "269          Percent  \n",
       "272           Legend  \n",
       "274           Legend  \n",
       "275           Legend  "
      ]
     },
     "execution_count": 10,
     "metadata": {},
     "output_type": "execute_result"
    }
   ],
   "source": [
    "decoded_features = decode(list(df.columns))\n",
    "decoded_features"
   ]
  },
  {
   "cell_type": "markdown",
   "metadata": {},
   "source": [
    "We have a substantial amount of information here. Before we go deeper into exploration, let's make sure that none of this is duplicated information.\n",
    "\n",
    "First, we'll explore a heatmap of highly correlated features."
   ]
  },
  {
   "cell_type": "markdown",
   "metadata": {},
   "source": [
    "## Correlation"
   ]
  },
  {
   "cell_type": "code",
   "execution_count": 11,
   "metadata": {},
   "outputs": [],
   "source": [
    "def corr_features(df, thresh=.8):\n",
    "    corr_matrix = df.corr().abs()\n",
    "    corr_matrix = corr_matrix[((corr_matrix >= thresh) & (corr_matrix < 1))].dropna(how='all', axis=0)\n",
    "    corr_matrix = corr_matrix.dropna(how='all', axis=1)\n",
    "    highly_corr = list(set(corr_matrix.columns).union(set(corr_matrix.index)))\n",
    "    return highly_corr"
   ]
  },
  {
   "cell_type": "code",
   "execution_count": 12,
   "metadata": {},
   "outputs": [
    {
     "data": {
      "image/png": "[encoded data removed]",
      "text/plain": [
       "<Figure size 432x288 with 2 Axes>"
      ]
     },
     "metadata": {
      "needs_background": "light"
     },
     "output_type": "display_data"
    }
   ],
   "source": [
    "import seaborn as sns\n",
    "\n",
    "highly_corr = corr_features(df)\n",
    "\n",
    "sns.heatmap(df[highly_corr].corr().abs())\n",
    "plt.show()"
   ]
  },
  {
   "cell_type": "code",
   "execution_count": 13,
   "metadata": {
    "scrolled": true
   },
   "outputs": [
    {
     "name": "stdout",
     "output_type": "stream",
     "text": [
      "PCT_LACCESS_CHILD10\n",
      "['PCT_LACCESS_POP10']\n",
      "PCT_LACCESS_SENIORS10\n",
      "['PCT_LACCESS_POP10']\n",
      "PCT_LACCESS_POP10\n",
      "['PCT_LACCESS_CHILD10', 'PCT_LACCESS_SENIORS10', 'PCT_LACCESS_LOWI10']\n",
      "PCT_LACCESS_LOWI10\n",
      "['PCT_LACCESS_POP10']\n"
     ]
    }
   ],
   "source": [
    "hc = df[highly_corr].corr().abs()\n",
    "\n",
    "corr_cols = list(hc.columns)\n",
    "\n",
    "corr_dict = {}\n",
    "for col in corr_cols:\n",
    "    print(col)\n",
    "    print(list(hc.loc[(hc[col] > .9) & (hc[col] < 1)].index))"
   ]
  },
  {
   "cell_type": "markdown",
   "metadata": {},
   "source": [
    "We can see that several of the metrics for access and proximity to store are highly correlated. Because all of these are highly correlated with \"Population, low access to store,\" we can drop the other three."
   ]
  },
  {
   "cell_type": "code",
   "execution_count": 14,
   "metadata": {},
   "outputs": [],
   "source": [
    "drop_corr = ['PCT_LACCESS_LOWI10', 'PCT_LACCESS_SENIORS10', 'PCT_LACCESS_CHILD10']\n",
    "df = df[list(set(df.columns) - set(drop_corr))]"
   ]
  },
  {
   "cell_type": "markdown",
   "metadata": {},
   "source": [
    "Finally, it's time to explore the target variable itself: Adult Diabetes in 2013.\n",
    "\n",
    "We'll start with a histogram comparing diabetes rates in 2008 vs. diabetes rates in 2013."
   ]
  },
  {
   "cell_type": "code",
   "execution_count": 15,
   "metadata": {},
   "outputs": [
    {
     "data": {
      "image/png": "[encoded data removed]",
      "text/plain": [
       "<Figure size 648x648 with 1 Axes>"
      ]
     },
     "metadata": {},
     "output_type": "display_data"
    }
   ],
   "source": [
    "plt.style.use('fivethirtyeight')\n",
    "\n",
    "plt.figure(figsize=(9,9))\n",
    "plt.hist(data[\"PCT_DIABETES_ADULTS08\"].dropna(axis=0), bins=30, alpha=0.5, label=\"Adults with Diabetes - 2008\")\n",
    "plt.hist(df[\"PCT_DIABETES_ADULTS13\"], bins=30, alpha=0.5, label=\"Adults with Diabetes - 2013\")\n",
    "plt.title('Adults with Diabetes, 2008-2013')\n",
    "plt.ylabel(\"# of US Counties\")\n",
    "plt.xlabel(\"% of Adults with Diabetes\")\n",
    "plt.legend()\n",
    "plt.axvline(11.0, c='r')\n",
    "plt.show()"
   ]
  },
  {
   "cell_type": "markdown",
   "metadata": {},
   "source": [
    "As we suspected, diabetes rates seem to have risen overall.\n",
    "\n",
    "Next, let's have a look at how these rates vary by state. Where are these high rates concentrated?"
   ]
  },
  {
   "cell_type": "code",
   "execution_count": 16,
   "metadata": {},
   "outputs": [],
   "source": [
    "# create clean dataframe with geographic data\n",
    "geo_data = data.loc[data[\"PCT_DIABETES_ADULTS13\"].isna() == False, ['FIPS', 'State_x', \"County_x\"]]\n",
    "geo_data = geo_data.iloc[:, [0,1,5]]\n",
    "geo_data.columns = ['FIPS', 'State', 'County']\n",
    "\n",
    "# make a copy of our master dataframe to merge with the geographic information on the FIPS column\n",
    "df_fips = df.copy()\n",
    "df_fips['FIPS'] = fips\n",
    "\n",
    "# merge the two dataframes\n",
    "geo_data = geo_data.merge(df_fips, on='FIPS')"
   ]
  },
  {
   "cell_type": "code",
   "execution_count": 17,
   "metadata": {},
   "outputs": [
    {
     "data": {
      "image/png": "[encoded data removed]",
      "text/plain": [
       "<Figure size 1440x648 with 1 Axes>"
      ]
     },
     "metadata": {},
     "output_type": "display_data"
    }
   ],
   "source": [
    "# group the diabetes rates by state, sort descending by mean rate\n",
    "boxplot_order = geo_data.groupby('State').mean()\n",
    "boxplot_order = boxplot_order.sort_values(\"PCT_DIABETES_ADULTS13\", ascending=False)\n",
    "\n",
    "# plot boxplots of county diabetes rates by state\n",
    "fig, ax = plt.subplots(figsize=(20,9))\n",
    "sns.boxplot(x='State', y='PCT_DIABETES_ADULTS13', data=geo_data, order=boxplot_order.index, ax=ax)\n",
    "ax.set_title(\"County Diabetes Rates by State\")\n",
    "ax.set_ylabel(\"Adult diabetes rate, 2013\")\n",
    "ax.axhline(11.0, c='r')\n",
    "plt.show()"
   ]
  },
  {
   "cell_type": "markdown",
   "metadata": {},
   "source": [
    "Finally, let's set our target categories and use them to graph our actual diabetes belts in 2008 and 2013. We'll want to do this several times for plotting purposes, so we'll make a function."
   ]
  },
  {
   "cell_type": "code",
   "execution_count": 18,
   "metadata": {},
   "outputs": [],
   "source": [
    "def set_class(df, name='PCT_DIABETES_ADULTS13', targetname='CLASS', thresh=11.0):\n",
    "    \"\"\" Converts a continuous feature into a binary feature.\n",
    "    \n",
    "    df: DataFrame\n",
    "    name: String, title of continuous column\n",
    "    targetname: String, name of new binary column\n",
    "    thresh: float, point of separation for new binary feature\n",
    "    \"\"\"\n",
    "    df[targetname] = df[name] >= thresh\n",
    "    df[targetname] = df[targetname].map({True: 1, False: 0})\n",
    "    df = df.drop(name, axis=1)\n",
    "    return df"
   ]
  },
  {
   "cell_type": "code",
   "execution_count": 19,
   "metadata": {},
   "outputs": [],
   "source": [
    "df = set_class(df)"
   ]
  },
  {
   "cell_type": "markdown",
   "metadata": {},
   "source": [
    "Thanks to plotly and geopandas, we can plot choropleth maps to see where our diabetes belts actually are in 2008 and 2013. Let's do that."
   ]
  },
  {
   "cell_type": "code",
   "execution_count": 20,
   "metadata": {},
   "outputs": [
    {
     "data": {
      "text/html": [
       "<script type=\"text/javascript\">window.PlotlyConfig = {MathJaxConfig: 'local'};</script><script type=\"text/javascript\">if (window.MathJax) {MathJax.Hub.Config({SVG: {font: \"STIX-Web\"}});}</script><script>requirejs.config({paths: { 'plotly': ['https://cdn.plot.ly/plotly-latest.min']},});if(!window._Plotly) {require(['plotly'],function(plotly) {window._Plotly=plotly;});}</script>"
      ],
      "text/vnd.plotly.v1+html": [
       "<script type=\"text/javascript\">window.PlotlyConfig = {MathJaxConfig: 'local'};</script><script type=\"text/javascript\">if (window.MathJax) {MathJax.Hub.Config({SVG: {font: \"STIX-Web\"}});}</script><script>requirejs.config({paths: { 'plotly': ['https://cdn.plot.ly/plotly-latest.min']},});if(!window._Plotly) {require(['plotly'],function(plotly) {window._Plotly=plotly;});}</script>"
      ]
     },
     "metadata": {},
     "output_type": "display_data"
    }
   ],
   "source": [
    "import plotly.plotly as py\n",
    "import plotly.graph_objs as go\n",
    "import geopandas\n",
    "import shapefile\n",
    "import shapely\n",
    "from plotly.figure_factory._county_choropleth import create_choropleth\n",
    "from plotly.offline import download_plotlyjs, init_notebook_mode, plot, iplot\n",
    "\n",
    "init_notebook_mode(connected=True)"
   ]
  },
  {
   "cell_type": "code",
   "execution_count": 21,
   "metadata": {},
   "outputs": [
    {
     "data": {
      "text/html": [
       "<div>\n",
       "<style scoped>\n",
       "    .dataframe tbody tr th:only-of-type {\n",
       "        vertical-align: middle;\n",
       "    }\n",
       "\n",
       "    .dataframe tbody tr th {\n",
       "        vertical-align: top;\n",
       "    }\n",
       "\n",
       "    .dataframe thead th {\n",
       "        text-align: right;\n",
       "    }\n",
       "</style>\n",
       "<table border=\"1\" class=\"dataframe\">\n",
       "  <thead>\n",
       "    <tr style=\"text-align: right;\">\n",
       "      <th></th>\n",
       "      <th>FIPS</th>\n",
       "      <th>PCT_DIABETES_ADULTS08</th>\n",
       "      <th>PCT_DIABETES_ADULTS13</th>\n",
       "    </tr>\n",
       "  </thead>\n",
       "  <tbody>\n",
       "    <tr>\n",
       "      <th>count</th>\n",
       "      <td>3143.000000</td>\n",
       "      <td>3138.000000</td>\n",
       "      <td>3142.000000</td>\n",
       "    </tr>\n",
       "    <tr>\n",
       "      <th>mean</th>\n",
       "      <td>30390.411709</td>\n",
       "      <td>9.913257</td>\n",
       "      <td>11.236123</td>\n",
       "    </tr>\n",
       "    <tr>\n",
       "      <th>std</th>\n",
       "      <td>15164.717720</td>\n",
       "      <td>2.058922</td>\n",
       "      <td>2.485537</td>\n",
       "    </tr>\n",
       "    <tr>\n",
       "      <th>min</th>\n",
       "      <td>1001.000000</td>\n",
       "      <td>3.000000</td>\n",
       "      <td>3.300000</td>\n",
       "    </tr>\n",
       "    <tr>\n",
       "      <th>25%</th>\n",
       "      <td>18178.000000</td>\n",
       "      <td>8.500000</td>\n",
       "      <td>9.500000</td>\n",
       "    </tr>\n",
       "    <tr>\n",
       "      <th>50%</th>\n",
       "      <td>29177.000000</td>\n",
       "      <td>9.800000</td>\n",
       "      <td>11.100000</td>\n",
       "    </tr>\n",
       "    <tr>\n",
       "      <th>75%</th>\n",
       "      <td>45082.000000</td>\n",
       "      <td>11.300000</td>\n",
       "      <td>12.900000</td>\n",
       "    </tr>\n",
       "    <tr>\n",
       "      <th>max</th>\n",
       "      <td>56045.000000</td>\n",
       "      <td>18.200000</td>\n",
       "      <td>23.500000</td>\n",
       "    </tr>\n",
       "  </tbody>\n",
       "</table>\n",
       "</div>"
      ],
      "text/plain": [
       "               FIPS  PCT_DIABETES_ADULTS08  PCT_DIABETES_ADULTS13\n",
       "count   3143.000000            3138.000000            3142.000000\n",
       "mean   30390.411709               9.913257              11.236123\n",
       "std    15164.717720               2.058922               2.485537\n",
       "min     1001.000000               3.000000               3.300000\n",
       "25%    18178.000000               8.500000               9.500000\n",
       "50%    29177.000000               9.800000              11.100000\n",
       "75%    45082.000000              11.300000              12.900000\n",
       "max    56045.000000              18.200000              23.500000"
      ]
     },
     "execution_count": 21,
     "metadata": {},
     "output_type": "execute_result"
    }
   ],
   "source": [
    "choro = data[['FIPS', 'PCT_DIABETES_ADULTS08', 'PCT_DIABETES_ADULTS13']]\n",
    "choro.describe()"
   ]
  },
  {
   "cell_type": "code",
   "execution_count": 22,
   "metadata": {},
   "outputs": [],
   "source": [
    "choro = set_class(choro, targetname='DIABETES_13')\n",
    "choro = set_class(choro, name='PCT_DIABETES_ADULTS08', targetname='DIABETES_08')"
   ]
  },
  {
   "cell_type": "code",
   "execution_count": null,
   "metadata": {
    "scrolled": false
   },
   "outputs": [
    {
     "name": "stderr",
     "output_type": "stream",
     "text": [
      "/home/calre/anaconda2/envs/learn-env/lib/python3.6/site-packages/pandas/core/frame.py:6692: FutureWarning:\n",
      "\n",
      "Sorting because non-concatenation axis is not aligned. A future version\n",
      "of pandas will change to not sort by default.\n",
      "\n",
      "To accept the future behavior, pass 'sort=False'.\n",
      "\n",
      "To retain the current behavior and silence the warning, pass 'sort=True'.\n",
      "\n",
      "\n"
     ]
    }
   ],
   "source": [
    "fips = choro['FIPS']\n",
    "values = choro['DIABETES_08'].map({1: \"11% or Above\", 0: \"Below 11%\"})\n",
    "\n",
    "fig = create_choropleth(fips=fips, \n",
    "                        values=values, \n",
    "                        colorscale=[\"#fc8d59\", \"#91bfdb\"], \n",
    "                        legend_title='Diabetes Belt - 2008', \n",
    "                        state_outline={'width': 1, 'color': \"#000\"})\n",
    "iplot(fig)"
   ]
  },
  {
   "cell_type": "code",
   "execution_count": null,
   "metadata": {},
   "outputs": [],
   "source": [
    "fips = choro['FIPS']\n",
    "values = choro['DIABETES_13'].map({1: \"11% or Above\", 0: \"Below 11%\"})\n",
    "\n",
    "fig = create_choropleth(fips=fips, \n",
    "                        values=values, \n",
    "                        colorscale=[\"#fc8d59\", \"#91bfdb\"], \n",
    "                        legend_title='Diabetes Belt - 2013', \n",
    "                        state_outline={'width': 1, 'color': \"#000\"})\n",
    "iplot(fig)"
   ]
  },
  {
   "cell_type": "markdown",
   "metadata": {},
   "source": [
    "What looked like a belt in 2008 has expanded considerably in 2013."
   ]
  },
  {
   "cell_type": "markdown",
   "metadata": {},
   "source": [
    "# Feature Selection"
   ]
  },
  {
   "cell_type": "markdown",
   "metadata": {},
   "source": [
    "We still have too many features for it to be worth exploring every single one in great detail. We'll use a Random Forest to rank feature importance by Gini index to narrow things down."
   ]
  },
  {
   "cell_type": "code",
   "execution_count": null,
   "metadata": {},
   "outputs": [],
   "source": [
    "from sklearn.ensemble import RandomForestClassifier\n",
    "from sklearn import datasets\n",
    "from sklearn.model_selection import train_test_split\n",
    "from sklearn import model_selection\n",
    "from sklearn.feature_selection import SelectFromModel\n",
    "from sklearn.metrics import accuracy_score"
   ]
  },
  {
   "cell_type": "code",
   "execution_count": null,
   "metadata": {},
   "outputs": [],
   "source": [
    "X = df.copy()\n",
    "y = X.pop('CLASS')"
   ]
  },
  {
   "cell_type": "code",
   "execution_count": null,
   "metadata": {},
   "outputs": [],
   "source": [
    "X_train, X_test, y_train, y_test = train_test_split(X, y, test_size=0.2, random_state=0)"
   ]
  },
  {
   "cell_type": "code",
   "execution_count": null,
   "metadata": {},
   "outputs": [],
   "source": [
    "feat_labels = list(X.columns)\n",
    "\n",
    "# Create a random forest classifier\n",
    "clf = RandomForestClassifier(n_estimators=100, random_state=0, n_jobs=-1)\n",
    "\n",
    "# Train the classifier\n",
    "clf.fit(X_train, y_train)\n",
    "\n",
    "# Create summary DataFrame\n",
    "results = pd.DataFrame({'Features': feat_labels, \"Gini\": clf.feature_importances_})"
   ]
  },
  {
   "cell_type": "code",
   "execution_count": null,
   "metadata": {},
   "outputs": [],
   "source": [
    "# Sort DataFrame by Gini Index, descending\n",
    "results = results.sort_values(by='Gini', ascending=False)\n",
    "print(results)\n",
    "\n",
    "titles = list(results['Features'])"
   ]
  },
  {
   "cell_type": "markdown",
   "metadata": {},
   "source": [
    "Fantastic! Already we can see some truly crucial features have floated to the top.\n",
    "\n",
    "In order to determine which ones to remove, we'll use a backward selection algorithm."
   ]
  },
  {
   "cell_type": "code",
   "execution_count": null,
   "metadata": {},
   "outputs": [],
   "source": [
    "def backward(X, y, f_list):\n",
    "    \"\"\" Takes a dataframe of features, a target, and a list of feature names sorted by Gini index.\n",
    "        Returns a summary DataFrame with accuracy impact of removing less important features.\n",
    "    \n",
    "    X: DataFrame, features\n",
    "    y: DataFrame, target\n",
    "    f_list: array, feature names sorted by Gini index, descending\n",
    "    \"\"\"\n",
    "    \n",
    "    f_list.append('NONE')\n",
    "    feature_counts = []\n",
    "    popped_features = []\n",
    "    test_score_list = []\n",
    "\n",
    "    while len(f_list) > 1:\n",
    "        dropped = f_list.pop()\n",
    "        feature_count = len(f_list)\n",
    "        \n",
    "        X = X.loc[:,f_list]\n",
    "        X_train, X_test, y_train, y_test = train_test_split(X, y, test_size=0.2, random_state=0)\n",
    "        clf = RandomForestClassifier(n_estimators=1000, random_state=0, n_jobs=-1)\n",
    "        clf.fit(X_train, y_train)\n",
    "        \n",
    "        y_pred_test = clf.predict(X_test)\n",
    "        test_score = accuracy_score(y_test, y_pred_test)\n",
    "        \n",
    "        feature_counts.append(feature_count)\n",
    "        popped_features.append(dropped)\n",
    "        test_score_list.append(test_score)\n",
    "        \n",
    "    summary = pd.DataFrame({\"# Features\": feature_counts,\n",
    "                            \"Dropped Feature\": popped_features,\n",
    "                            \"Test Accuracy\": test_score_list})\n",
    "    return summary"
   ]
  },
  {
   "cell_type": "code",
   "execution_count": null,
   "metadata": {},
   "outputs": [],
   "source": [
    "summary = backward(X, y, titles)\n",
    "summary"
   ]
  },
  {
   "cell_type": "code",
   "execution_count": null,
   "metadata": {},
   "outputs": [],
   "source": [
    "plt.plot(summary['# Features'], summary['Test Accuracy'])\n",
    "plt.title(\"# of Features vs. Accuracy\")\n",
    "plt.xlabel(\"Features\")\n",
    "plt.ylabel(\"Accuracy\")"
   ]
  },
  {
   "cell_type": "markdown",
   "metadata": {},
   "source": [
    "It appears that the first seven features are the most impactful for our initial model. Let's isolate those and explore them."
   ]
  },
  {
   "cell_type": "code",
   "execution_count": null,
   "metadata": {},
   "outputs": [],
   "source": [
    "final = list(results['Features'])[:7]\n",
    "final"
   ]
  },
  {
   "cell_type": "code",
   "execution_count": null,
   "metadata": {},
   "outputs": [],
   "source": [
    "decode(final)"
   ]
  },
  {
   "cell_type": "markdown",
   "metadata": {},
   "source": [
    "Examining these features, it appears that we can separate them into four major categories. Let's do that!"
   ]
  },
  {
   "cell_type": "code",
   "execution_count": null,
   "metadata": {},
   "outputs": [],
   "source": [
    "obesity = ['PCT_OBESE_ADULTS13']\n",
    "access = ['PCT_LACCESS_HHNV10', 'SNAPSPTH12']\n",
    "food_assist = ['PCT_SNAP12', 'PCT_SBP09']\n",
    "race_age = ['PCT_HISP10', 'PCT_65OLDER10']"
   ]
  },
  {
   "cell_type": "markdown",
   "metadata": {},
   "source": [
    "Now, we'll explore them visually in relation to adult diabetes rate. Let's make a function for that."
   ]
  },
  {
   "cell_type": "code",
   "execution_count": null,
   "metadata": {},
   "outputs": [],
   "source": [
    "def boxplotter(features, rows, cols, title):\n",
    "    \"\"\"Creates a grid of boxplots, delineated by diabetes rate.\n",
    "    \n",
    "    features: array, the features to be plotted\n",
    "    rows: int, number of rows in grid\n",
    "    cols: int, number of cols in grid\n",
    "    title: String, title of plot\n",
    "    \n",
    "    \"\"\"\n",
    "    \n",
    "    ylabels = decode(features)\n",
    "    ylabels = list(ylabels[\"Variable Name\"])\n",
    "    fig, axes = plt.subplots(rows, cols, squeeze=False, figsize = (7*cols, 6*rows))\n",
    "    fig.suptitle(title)\n",
    "    fig.subplots_adjust(top=0.90, wspace=0.3)\n",
    "    \n",
    "    for i, name in enumerate(features):\n",
    "        row = i // 3        \n",
    "        col = i % 3\n",
    "        if len(features) == 1:\n",
    "            ax = axes[0,0]\n",
    "        else:\n",
    "            ax = axes[row,col]\n",
    "        sns.boxplot(x='CLASS', y=name, data=df, showfliers=False, ax=ax)\n",
    "        axes[row,col].set_xticklabels([\"Below 11%\", \"11% or Greater\"])\n",
    "        axes[row,col].set_xlabel(\"Diabetes Rate\")\n",
    "        axes[row,col].set_ylabel(ylabels[i].split('(')[0])\n",
    "    "
   ]
  },
  {
   "cell_type": "code",
   "execution_count": null,
   "metadata": {},
   "outputs": [],
   "source": [
    "boxplotter(obesity, 1, 1, 'Obesity - No Belt vs. Belt')"
   ]
  },
  {
   "cell_type": "markdown",
   "metadata": {},
   "source": [
    "Here, the relationship is clear. The median county diabetes rate in the Belt is at least 5% greater than outside of it."
   ]
  },
  {
   "cell_type": "code",
   "execution_count": null,
   "metadata": {},
   "outputs": [],
   "source": [
    "boxplotter(access, 1, 2, 'Food Access - No Belt vs. Belt')"
   ]
  },
  {
   "cell_type": "markdown",
   "metadata": {},
   "source": [
    "Clearly, household access to store is an important factor, with **lower access overall in the belt.** SNAP-authorized stores may be thought of here as a **proxy for poverty**, as it is likely that there are more such stores in impoverished areas."
   ]
  },
  {
   "cell_type": "code",
   "execution_count": null,
   "metadata": {},
   "outputs": [],
   "source": [
    "boxplotter(food_assist, 1, 2, 'Food Assistance - No Belt vs. Belt')"
   ]
  },
  {
   "cell_type": "markdown",
   "metadata": {},
   "source": [
    "Again, these measures are probably best thought of as **proxies for poverty,** though it might take more domain knowledge to really know what is going on. Still, rates seem to be generally higher on the belt than off of it."
   ]
  },
  {
   "cell_type": "code",
   "execution_count": null,
   "metadata": {},
   "outputs": [],
   "source": [
    "boxplotter(race_age, 1, 2, \"Race & Age - No Belt vs. Belt\")"
   ]
  },
  {
   "cell_type": "markdown",
   "metadata": {},
   "source": [
    "There are some well-documented relationships between diabetes and people from certain ethnic backgrounds. Here, larger Hispanic populations are better represented off of the belt!\n",
    "\n",
    "Meanwhile, older populations are slightly better represented on average on the belt."
   ]
  },
  {
   "cell_type": "markdown",
   "metadata": {},
   "source": [
    "# Model"
   ]
  },
  {
   "cell_type": "markdown",
   "metadata": {},
   "source": [
    "Now that we have cleaned our data and selected and explored our features, it is time to select a machine learning model. In order to do this, we'll build a pipeline to test four popular algorithms for classification:\n",
    "\n",
    "1. Logistic Regression\n",
    "2. Naive Bayes\n",
    "3. Support Vector Machines\n",
    "4. Random Forest"
   ]
  },
  {
   "cell_type": "code",
   "execution_count": null,
   "metadata": {},
   "outputs": [],
   "source": [
    "from sklearn.model_selection import GridSearchCV\n",
    "from sklearn import model_selection\n",
    "from sklearn.preprocessing import MinMaxScaler\n",
    "from sklearn.naive_bayes import GaussianNB\n",
    "from sklearn.linear_model import LogisticRegression\n",
    "from sklearn.svm import SVC"
   ]
  },
  {
   "cell_type": "code",
   "execution_count": null,
   "metadata": {},
   "outputs": [],
   "source": [
    "print(final)"
   ]
  },
  {
   "cell_type": "code",
   "execution_count": null,
   "metadata": {},
   "outputs": [],
   "source": [
    "# obtain a final clean dataframe with just our selected features\n",
    "final_df = clean(data)\n",
    "fips = final_df.pop('FIPS')\n",
    "final_df = set_class(final_df)\n",
    "y = final_df.pop('CLASS')\n",
    "X = final_df[final]"
   ]
  },
  {
   "cell_type": "code",
   "execution_count": null,
   "metadata": {},
   "outputs": [],
   "source": [
    "# instantiate our models\n",
    "models = [\n",
    "    ('Logistic Regression', LogisticRegression(solver='liblinear')),\n",
    "    ('Naive Bayes', GaussianNB()),\n",
    "    ('SVM', SVC(gamma='scale')),\n",
    "    ('Random Forest', RandomForestClassifier(n_estimators=1000, n_jobs=-1))\n",
    "]"
   ]
  },
  {
   "cell_type": "code",
   "execution_count": null,
   "metadata": {},
   "outputs": [],
   "source": [
    "results_accuracy = []\n",
    "results_recall = []\n",
    "names = []\n",
    "\n",
    "# perform kfold validation on our data, applying each model 10 times and returning the means of the accuracy and recall scores\n",
    "for name, model in models:\n",
    "    names.append(name)\n",
    "    \n",
    "    kfold = model_selection.KFold(n_splits=10, random_state=1)\n",
    "    cv_results_acc = model_selection.cross_val_score(model, X, y, cv=kfold, scoring='accuracy')\n",
    "    results_accuracy.append(cv_results_acc)\n",
    "\n",
    "    cv_results_rec = model_selection.cross_val_score(model, X, y, cv=kfold, scoring='recall')\n",
    "    results_recall.append(cv_results_rec)\n",
    "    \n",
    "    msg = \"{}: Mean Accuracy: {}; Mean Recall: {}\".format(name, np.mean(results_accuracy[-1]), np.mean(results_recall[-1]))\n",
    "    print(msg)"
   ]
  },
  {
   "cell_type": "code",
   "execution_count": null,
   "metadata": {},
   "outputs": [],
   "source": [
    "# plot boxplots of the returned mean scores\n",
    "fig, (ax1, ax2) = plt.subplots(1,2, figsize=(20, 7))\n",
    "fig.suptitle('Algorithm Comparison')\n",
    "ax1.boxplot(results_accuracy)\n",
    "ax1.set_title('Accuracy')\n",
    "ax1.set_xticklabels(names, rotation=45)\n",
    "ax1.set_ylim(0.2,1.0)\n",
    "ax1.set_ylabel(\"% Accuracy\")\n",
    "ax2.boxplot(results_recall)\n",
    "ax2.set_xticklabels(names, rotation=45)\n",
    "ax2.set_title('Recall')\n",
    "ax2.set_ylim(0.2,1.0)\n",
    "ax2.set_ylabel(\"% Recall\")\n",
    "plt.show()"
   ]
  },
  {
   "cell_type": "markdown",
   "metadata": {},
   "source": [
    "This is very interesting! All four models performed very well. Naive Bayes seems more likely than the others to identify a county as on the belt than the others, but is still within the ballpark of accuracy.\n",
    "\n",
    "The fact that logistic regression performs as well as it does indicates to me that the features contribute to the probability in an essentially linear fashion. Because it is a fast algorithm, accurate in this case, and robust against overfitting, we will select it for this case. Further exploration and tuning might change this determination."
   ]
  },
  {
   "cell_type": "markdown",
   "metadata": {},
   "source": [
    "# Interpret"
   ]
  },
  {
   "cell_type": "markdown",
   "metadata": {},
   "source": [
    "At last, we'll have a look at the confusion matrix, and predict our final 2013 Diabetes Belt."
   ]
  },
  {
   "cell_type": "code",
   "execution_count": null,
   "metadata": {},
   "outputs": [],
   "source": [
    "from sklearn.model_selection import cross_val_predict\n",
    "from sklearn.metrics import confusion_matrix\n",
    "\n",
    "lr = LogisticRegression(solver='liblinear')\n",
    "lr.fit(X, y)\n",
    "\n",
    "lr.predict(X)\n",
    "\n",
    "y_pred = cross_val_predict(lr, X, y, cv=10)\n",
    "conf_mat = confusion_matrix(y, y_pred)"
   ]
  },
  {
   "cell_type": "code",
   "execution_count": null,
   "metadata": {},
   "outputs": [],
   "source": [
    "conf_mat"
   ]
  },
  {
   "cell_type": "code",
   "execution_count": null,
   "metadata": {},
   "outputs": [],
   "source": [
    "import itertools\n",
    "\n",
    "# map an image onto the confusion matrix\n",
    "plt.imshow(conf_mat,  cmap=plt.cm.Blues)\n",
    "\n",
    "plt.title('Confusion Matrix - Logistic Regression')\n",
    "plt.ylabel('True label')\n",
    "plt.xlabel('Predicted label')\n",
    "\n",
    "class_names = set(y)\n",
    "tick_marks = np.arange(len(class_names))\n",
    "plt.xticks(tick_marks, class_names)\n",
    "plt.yticks(tick_marks, class_names)\n",
    "\n",
    "thresh = conf_mat.max() / 2\n",
    "\n",
    "for i, j in itertools.product(range(conf_mat.shape[0]), range(conf_mat.shape[1])):\n",
    "        plt.text(j, i, conf_mat[i, j],\n",
    "                 horizontalalignment=\"center\",\n",
    "                 color=\"white\" if conf_mat[i, j] > thresh else \"black\")\n",
    "\n",
    "plt.colorbar()\n",
    "plt.grid(False)"
   ]
  },
  {
   "cell_type": "markdown",
   "metadata": {},
   "source": [
    "This model seems well tuned for accuracy, with a similar number of false positives and false negatives."
   ]
  },
  {
   "cell_type": "code",
   "execution_count": null,
   "metadata": {},
   "outputs": [],
   "source": [
    "geo = ['FIPS'] + final\n",
    "geo_df = clean(data)\n",
    "geo_df = geo_df[geo]\n",
    "geo_fips = geo_df.pop('FIPS')\n",
    "\n",
    "map_pred = pd.Series(lr.predict(geo_df))\n",
    "\n",
    "fips = geo_fips\n",
    "values = map_pred.map({1: \"11% or Above\", 0: \"Below 11%\"})\n",
    "\n",
    "fig = create_choropleth(fips=fips, \n",
    "                        values=values, \n",
    "                        colorscale=[\"#fc8d59\", \"#91bfdb\"], \n",
    "                        legend_title='Predicted Diabetes Belt - 2013', \n",
    "                        state_outline={'width': 1, 'color': \"#000\"})\n",
    "iplot(fig)"
   ]
  },
  {
   "cell_type": "markdown",
   "metadata": {},
   "source": [
    "## Conclusion\n",
    "\n",
    "Given the wealth of data in the USDA's Food Environment Atlas, it is possible to construct a classifier that will determine whether a US county is a member of the CDC's Diabetes Belt with **~80% accuracy**.\n",
    "\n",
    "Top features appear to be **obesity, food access, food assistance, and race/age**. Some of these may be proxies for the effect of **poverty**, rather than causes in of themselves.\n",
    "\n",
    "We received excellent performance from all classifiers trialed, and ended up picking **logistic regression**, which is fast, accurate in this case, and robust against overfitting.\n",
    "\n",
    "I feel confident that with more data and finer tuning, even more accurate models may be built. That is another project! Thanks for reading."
   ]
  },
  {
   "cell_type": "code",
   "execution_count": null,
   "metadata": {},
   "outputs": [],
   "source": []
  }
 ],
 "metadata": {
  "kernelspec": {
   "display_name": "Python 3",
   "language": "python",
   "name": "python3"
  },
  "language_info": {
   "codemirror_mode": {
    "name": "ipython",
    "version": 3
   },
   "file_extension": ".py",
   "mimetype": "text/x-python",
   "name": "python",
   "nbconvert_exporter": "python",
   "pygments_lexer": "ipython3",
   "version": "3.6.8"
  }
 },
 "nbformat": 4,
 "nbformat_minor": 2
}
